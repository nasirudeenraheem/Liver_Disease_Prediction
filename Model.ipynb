{
 "cells": [
  {
   "cell_type": "code",
   "execution_count": 24,
   "id": "3add1475",
   "metadata": {},
   "outputs": [],
   "source": [
    "import pandas as pd\n",
    "import numpy as np\n",
    "import matplotlib.pyplot as plt\n",
    "import seaborn as sns\n",
    "%matplotlib inline"
   ]
  },
  {
   "cell_type": "code",
   "execution_count": 2,
   "id": "9f8f1ec8",
   "metadata": {},
   "outputs": [],
   "source": [
    "from sklearn.model_selection import train_test_split\n",
    "from catboost import CatBoostClassifier, CatBoostRegressor\n",
    "from sklearn.metrics import f1_scoreaccuracy_score"
   ]
  },
  {
   "cell_type": "code",
   "execution_count": 26,
   "id": "6bd52fe1",
   "metadata": {},
   "outputs": [],
   "source": [
    "train = pd.read_csv('train_clean.csv')\n",
    "test = pd.read_csv('test_clean.csv')"
   ]
  },
  {
   "cell_type": "code",
   "execution_count": 27,
   "id": "4dc71d92",
   "metadata": {},
   "outputs": [
    {
     "data": {
      "text/plain": [
       "ID               0\n",
       "N_Days           0\n",
       "Status           0\n",
       "Drug             0\n",
       "Age              0\n",
       "Ascites          0\n",
       "Hepatomegaly     0\n",
       "Spiders          0\n",
       "Edema            0\n",
       "Bilirubin        0\n",
       "Cholesterol      0\n",
       "Albumin          0\n",
       "Copper           0\n",
       "Alk_Phos         0\n",
       "SGOT             0\n",
       "Tryglicerides    0\n",
       "Platelets        0\n",
       "Prothrombin      0\n",
       "Stage            0\n",
       "Sex_M            0\n",
       "dtype: int64"
      ]
     },
     "execution_count": 27,
     "metadata": {},
     "output_type": "execute_result"
    }
   ],
   "source": [
    "train.isnull().sum()"
   ]
  },
  {
   "cell_type": "code",
   "execution_count": 28,
   "id": "73d21501",
   "metadata": {},
   "outputs": [],
   "source": [
    "train = train.drop('ID', axis=1)\n",
    "test = test.drop('ID', axis=1)"
   ]
  },
  {
   "cell_type": "code",
   "execution_count": 29,
   "id": "62ec0286",
   "metadata": {},
   "outputs": [],
   "source": [
    "X = train.drop('Stage', axis=1)\n",
    "y = train['Stage']"
   ]
  },
  {
   "cell_type": "code",
   "execution_count": 31,
   "id": "698a29c0",
   "metadata": {},
   "outputs": [],
   "source": [
    "# Split the data into 30% validation and 70% training\n",
    "X_train, X_val, y_train, y_val = train_test_split(X, y, test_size=0.3, random_state=101, stratify=y)"
   ]
  },
  {
   "cell_type": "code",
   "execution_count": 32,
   "id": "e68c0729",
   "metadata": {},
   "outputs": [],
   "source": [
    "model=CatBoostClassifier(iterations=800,\n",
    "                              learning_rate=0.1,\n",
    "                              depth=4,loss_function='MultiClass', \n",
    "                         bootstrap_type='Bernoulli',\n",
    "                              subsample=0.9,\n",
    "                              eval_metric='TotalF1',\n",
    "                              metric_period=20,\n",
    "                              allow_writing_files=False)"
   ]
  },
  {
   "cell_type": "code",
   "execution_count": 33,
   "id": "318ef680",
   "metadata": {},
   "outputs": [
    {
     "name": "stdout",
     "output_type": "stream",
     "text": [
      "0:\tlearn: 0.3521026\ttest: 0.3521094\tbest: 0.3521094 (0)\ttotal: 10ms\tremaining: 8.02s\n",
      "20:\tlearn: 0.3507487\ttest: 0.3509068\tbest: 0.3521094 (0)\ttotal: 146ms\tremaining: 5.41s\n",
      "40:\tlearn: 0.3507487\ttest: 0.3509068\tbest: 0.3521094 (0)\ttotal: 306ms\tremaining: 5.66s\n",
      "60:\tlearn: 0.3507487\ttest: 0.3509068\tbest: 0.3521094 (0)\ttotal: 442ms\tremaining: 5.35s\n",
      "80:\tlearn: 0.3516847\ttest: 0.3509068\tbest: 0.3521094 (0)\ttotal: 584ms\tremaining: 5.18s\n",
      "100:\tlearn: 0.3548960\ttest: 0.3522216\tbest: 0.3522216 (100)\ttotal: 717ms\tremaining: 4.96s\n",
      "120:\tlearn: 0.3590556\ttest: 0.3517788\tbest: 0.3522216 (100)\ttotal: 859ms\tremaining: 4.82s\n",
      "140:\tlearn: 0.3631609\ttest: 0.3517814\tbest: 0.3522216 (100)\ttotal: 995ms\tremaining: 4.65s\n",
      "160:\tlearn: 0.3708179\ttest: 0.3539323\tbest: 0.3539323 (160)\ttotal: 1.14s\tremaining: 4.5s\n",
      "180:\tlearn: 0.3784458\ttest: 0.3557032\tbest: 0.3557032 (180)\ttotal: 1.27s\tremaining: 4.35s\n",
      "200:\tlearn: 0.3878435\ttest: 0.3530046\tbest: 0.3557032 (180)\ttotal: 1.41s\tremaining: 4.21s\n",
      "220:\tlearn: 0.4011621\ttest: 0.3583508\tbest: 0.3583508 (220)\ttotal: 1.54s\tremaining: 4.04s\n",
      "240:\tlearn: 0.4147947\ttest: 0.3593440\tbest: 0.3593440 (240)\ttotal: 1.68s\tremaining: 3.9s\n",
      "260:\tlearn: 0.4212379\ttest: 0.3614818\tbest: 0.3614818 (260)\ttotal: 1.82s\tremaining: 3.75s\n",
      "280:\tlearn: 0.4322508\ttest: 0.3622159\tbest: 0.3622159 (280)\ttotal: 1.96s\tremaining: 3.63s\n",
      "300:\tlearn: 0.4394384\ttest: 0.3626097\tbest: 0.3626097 (300)\ttotal: 2.1s\tremaining: 3.48s\n",
      "320:\tlearn: 0.4483917\ttest: 0.3621569\tbest: 0.3626097 (300)\ttotal: 2.24s\tremaining: 3.34s\n",
      "340:\tlearn: 0.4561228\ttest: 0.3650262\tbest: 0.3650262 (340)\ttotal: 2.37s\tremaining: 3.19s\n",
      "360:\tlearn: 0.4684887\ttest: 0.3654075\tbest: 0.3654075 (360)\ttotal: 2.51s\tremaining: 3.06s\n",
      "380:\tlearn: 0.4743735\ttest: 0.3659851\tbest: 0.3659851 (380)\ttotal: 2.65s\tremaining: 2.91s\n",
      "400:\tlearn: 0.4839790\ttest: 0.3660734\tbest: 0.3660734 (400)\ttotal: 2.79s\tremaining: 2.77s\n",
      "420:\tlearn: 0.4975313\ttest: 0.3663604\tbest: 0.3663604 (420)\ttotal: 2.92s\tremaining: 2.63s\n",
      "440:\tlearn: 0.5093828\ttest: 0.3659074\tbest: 0.3663604 (420)\ttotal: 3.06s\tremaining: 2.5s\n",
      "460:\tlearn: 0.5223745\ttest: 0.3685914\tbest: 0.3685914 (460)\ttotal: 3.2s\tremaining: 2.35s\n",
      "480:\tlearn: 0.5323953\ttest: 0.3667503\tbest: 0.3685914 (460)\ttotal: 3.34s\tremaining: 2.22s\n",
      "500:\tlearn: 0.5404424\ttest: 0.3724746\tbest: 0.3724746 (500)\ttotal: 3.48s\tremaining: 2.08s\n",
      "520:\tlearn: 0.5526968\ttest: 0.3729636\tbest: 0.3729636 (520)\ttotal: 3.62s\tremaining: 1.94s\n",
      "540:\tlearn: 0.5618528\ttest: 0.3748030\tbest: 0.3748030 (540)\ttotal: 3.75s\tremaining: 1.8s\n",
      "560:\tlearn: 0.5694969\ttest: 0.3747634\tbest: 0.3748030 (540)\ttotal: 3.9s\tremaining: 1.66s\n",
      "580:\tlearn: 0.5783044\ttest: 0.3730935\tbest: 0.3748030 (540)\ttotal: 4.03s\tremaining: 1.52s\n",
      "600:\tlearn: 0.5867420\ttest: 0.3756510\tbest: 0.3756510 (600)\ttotal: 4.17s\tremaining: 1.38s\n",
      "620:\tlearn: 0.5943700\ttest: 0.3787602\tbest: 0.3787602 (620)\ttotal: 4.31s\tremaining: 1.24s\n",
      "640:\tlearn: 0.6013607\ttest: 0.3759203\tbest: 0.3787602 (620)\ttotal: 4.45s\tremaining: 1.1s\n",
      "660:\tlearn: 0.6086543\ttest: 0.3803039\tbest: 0.3803039 (660)\ttotal: 4.58s\tremaining: 964ms\n",
      "680:\tlearn: 0.6142422\ttest: 0.3819140\tbest: 0.3819140 (680)\ttotal: 4.72s\tremaining: 826ms\n",
      "700:\tlearn: 0.6237092\ttest: 0.3761642\tbest: 0.3819140 (680)\ttotal: 4.86s\tremaining: 687ms\n",
      "720:\tlearn: 0.6325558\ttest: 0.3819944\tbest: 0.3819944 (720)\ttotal: 5s\tremaining: 548ms\n",
      "740:\tlearn: 0.6414168\ttest: 0.3811430\tbest: 0.3819944 (720)\ttotal: 5.14s\tremaining: 409ms\n",
      "760:\tlearn: 0.6483305\ttest: 0.3778459\tbest: 0.3819944 (720)\ttotal: 5.28s\tremaining: 271ms\n",
      "780:\tlearn: 0.6555042\ttest: 0.3793381\tbest: 0.3819944 (720)\ttotal: 5.42s\tremaining: 132ms\n",
      "799:\tlearn: 0.6643434\ttest: 0.3800929\tbest: 0.3819944 (720)\ttotal: 5.55s\tremaining: 0us\n",
      "\n",
      "bestTest = 0.3819944208\n",
      "bestIteration = 720\n",
      "\n",
      "Shrink model to first 721 iterations.\n"
     ]
    },
    {
     "data": {
      "text/plain": [
       "<catboost.core.CatBoostClassifier at 0x2bcd119c3d0>"
      ]
     },
     "execution_count": 33,
     "metadata": {},
     "output_type": "execute_result"
    }
   ],
   "source": [
    "model.fit(X_train, y_train, eval_set=(X_val, y_val))"
   ]
  },
  {
   "cell_type": "code",
   "execution_count": 34,
   "id": "7e368ea2",
   "metadata": {},
   "outputs": [],
   "source": [
    "y_pred=model.predict(test)"
   ]
  },
  {
   "cell_type": "code",
   "execution_count": 36,
   "id": "8c28069c",
   "metadata": {},
   "outputs": [
    {
     "name": "stdout",
     "output_type": "stream",
     "text": [
      "0.5029411764705882\n"
     ]
    }
   ],
   "source": [
    "print(f1_score(y_val, model.predict(X_val), average='micro'))"
   ]
  },
  {
   "cell_type": "code",
   "execution_count": 19,
   "id": "178cbdac",
   "metadata": {},
   "outputs": [
    {
     "data": {
      "image/png": "[encoded data removed]",
      "text/plain": [
       "<Figure size 1440x720 with 1 Axes>"
      ]
     },
     "metadata": {
      "needs_background": "light"
     },
     "output_type": "display_data"
    }
   ],
   "source": [
    "fea_imp = pd.DataFrame({'imp':model.feature_importances_, 'col': X.columns})\n",
    "fea_imp = fea_imp.sort_values(['imp', 'col'], ascending=[True, False]).iloc[-30:]\n",
    "_ = fea_imp.plot(kind='barh', x='col', y='imp', figsize=(20, 10))\n",
    "plt.savefig('catboost_feature_importance.png')    "
   ]
  },
  {
   "cell_type": "code",
   "execution_count": 20,
   "id": "b6004c9d",
   "metadata": {},
   "outputs": [],
   "source": [
    "pred = model.predict(test)"
   ]
  },
  {
   "cell_type": "code",
   "execution_count": 21,
   "id": "19539cd6",
   "metadata": {},
   "outputs": [],
   "source": [
    "res = pd.DataFrame(pred) #preditcions are nothing but the final predictions of your model on input features of your new unseen test data\n",
    "res.index = test.index # its important for comparison. Here \"test_new\" is your new test dataset\n",
    "res.columns = [\"Stage\"]"
   ]
  },
  {
   "cell_type": "code",
   "execution_count": 22,
   "id": "889ff401",
   "metadata": {},
   "outputs": [
    {
     "data": {
      "text/plain": [
       "4.0    2890\n",
       "2.0     205\n",
       "3.0     104\n",
       "1.0       1\n",
       "Name: Stage, dtype: int64"
      ]
     },
     "execution_count": 22,
     "metadata": {},
     "output_type": "execute_result"
    }
   ],
   "source": [
    "res['Stage'].value_counts()"
   ]
  },
  {
   "cell_type": "code",
   "execution_count": 23,
   "id": "59053cb6",
   "metadata": {},
   "outputs": [],
   "source": [
    "res.to_csv('prediction_results.csv', index=False)"
   ]
  },
  {
   "cell_type": "code",
   "execution_count": null,
   "id": "be58ac3d",
   "metadata": {},
   "outputs": [],
   "source": []
  }
 ],
 "metadata": {
  "kernelspec": {
   "display_name": "Python 3 (ipykernel)",
   "language": "python",
   "name": "python3"
  },
  "language_info": {
   "codemirror_mode": {
    "name": "ipython",
    "version": 3
   },
   "file_extension": ".py",
   "mimetype": "text/x-python",
   "name": "python",
   "nbconvert_exporter": "python",
   "pygments_lexer": "ipython3",
   "version": "3.9.7"
  }
 },
 "nbformat": 4,
 "nbformat_minor": 5
}
